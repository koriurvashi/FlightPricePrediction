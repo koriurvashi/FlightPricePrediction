{
 "cells": [
  {
   "cell_type": "markdown",
   "metadata": {},
   "source": [
    "Flight price prediction\n"
   ]
  },
  {
   "cell_type": "code",
   "execution_count": null,
   "metadata": {},
   "outputs": [],
   "source": [
    "import numpy as np\n",
    "import pandas as pd\n",
    "import seaborn as sns\n",
    "import matplotlib.pyplot as plt"
   ]
  },
  {
   "cell_type": "code",
   "execution_count": null,
   "metadata": {},
   "outputs": [],
   "source": [
    "data=pd.read_excel(r\"C:\\Users\\annie\\Desktop\\Data_Trainn.xlsx\")"
   ]
  },
  {
   "cell_type": "code",
   "execution_count": null,
   "metadata": {},
   "outputs": [],
   "source": [
    "data.head()"
   ]
  },
  {
   "cell_type": "code",
   "execution_count": null,
   "metadata": {},
   "outputs": [],
   "source": [
    "data.tail()"
   ]
  },
  {
   "cell_type": "code",
   "execution_count": null,
   "metadata": {},
   "outputs": [],
   "source": [
    "data.shape"
   ]
  },
  {
   "cell_type": "code",
   "execution_count": null,
   "metadata": {},
   "outputs": [],
   "source": [
    "#checking data info---info about no of values,data types of each column\n",
    "data.info()"
   ]
  },
  {
   "cell_type": "code",
   "execution_count": null,
   "metadata": {},
   "outputs": [],
   "source": [
    "#checking Nan Values\n",
    "data.isnull().sum()"
   ]
  },
  {
   "cell_type": "code",
   "execution_count": null,
   "metadata": {},
   "outputs": [],
   "source": [
    "data[\"Airline\"].unique()"
   ]
  },
  {
   "cell_type": "code",
   "execution_count": null,
   "metadata": {},
   "outputs": [],
   "source": [
    "data[\"Source\"].unique()"
   ]
  },
  {
   "cell_type": "code",
   "execution_count": null,
   "metadata": {},
   "outputs": [],
   "source": [
    "data[\"Destination\"].unique()"
   ]
  },
  {
   "cell_type": "code",
   "execution_count": null,
   "metadata": {},
   "outputs": [],
   "source": [
    "data[\"Additional_Info\"].unique()"
   ]
  },
  {
   "cell_type": "code",
   "execution_count": null,
   "metadata": {},
   "outputs": [],
   "source": [
    "data[\"Date_of_Journey\"]=data[\"Date_of_Journey\"].str.split('/')"
   ]
  },
  {
   "cell_type": "code",
   "execution_count": null,
   "metadata": {},
   "outputs": [],
   "source": [
    "data[\"Date_of_Journey\"]"
   ]
  },
  {
   "cell_type": "code",
   "execution_count": null,
   "metadata": {},
   "outputs": [],
   "source": [
    "data['Date']=data[\"Date_of_Journey\"].str[0]\n",
    "data['Month']=data[\"Date_of_Journey\"].str[1]\n",
    "data['Year']=data[\"Date_of_Journey\"].str[2]"
   ]
  },
  {
   "cell_type": "code",
   "execution_count": null,
   "metadata": {},
   "outputs": [],
   "source": [
    "data.head()"
   ]
  },
  {
   "cell_type": "code",
   "execution_count": null,
   "metadata": {},
   "outputs": [],
   "source": [
    "data.Total_Stops.unique()"
   ]
  },
  {
   "cell_type": "code",
   "execution_count": null,
   "metadata": {},
   "outputs": [],
   "source": [
    "data['Route']=data['Route'].str.split('→')"
   ]
  },
  {
   "cell_type": "code",
   "execution_count": null,
   "metadata": {},
   "outputs": [],
   "source": [
    "data['City1']=data['Route'].str[0]\n",
    "data['City2']=data['Route'].str[1]\n",
    "data['City3']=data['Route'].str[2]\n",
    "data['City4']=data['Route'].str[3]\n",
    "data['City5']=data['Route'].str[4]\n",
    "data['City6']=data['Route'].str[5]"
   ]
  },
  {
   "cell_type": "code",
   "execution_count": null,
   "metadata": {},
   "outputs": [],
   "source": [
    "data.head()"
   ]
  },
  {
   "cell_type": "code",
   "execution_count": null,
   "metadata": {},
   "outputs": [],
   "source": [
    "#treating departure time column\n",
    "data['Dep_Time']=data['Dep_Time'].str.split(\":\")\n",
    "data['Dep_Time_Hour']=data['Dep_Time'].str[0]\n",
    "data['Dep_Time_Min']=data['Dep_Time'].str[1]"
   ]
  },
  {
   "cell_type": "code",
   "execution_count": null,
   "metadata": {},
   "outputs": [],
   "source": [
    "#treating arrival time column\n",
    "data['Arrival_Time']=data[\"Arrival_Time\"].str.split(\" \")\n",
    "data['Time_of_Arrival']=data[\"Arrival_Time\"].str[0]\n",
    "data['Arrival_date']=data['Arrival_Time'].str[1]"
   ]
  },
  {
   "cell_type": "code",
   "execution_count": null,
   "metadata": {},
   "outputs": [],
   "source": [
    "data['Time_of_Arrival']=data['Time_of_Arrival'].str.split(':')\n",
    "data['Arrival_Time_Hour']=data['Time_of_Arrival'].str[0]\n",
    "data['Arrival_Time_Min']=data['Time_of_Arrival'].str[1]"
   ]
  },
  {
   "cell_type": "code",
   "execution_count": null,
   "metadata": {},
   "outputs": [],
   "source": [
    "#Treating Duration\n",
    "data['Duration']=data['Duration'].str.split(' ')\n",
    "data['Travel_hours']=data['Duration'].str[0]\n",
    "data['Travel_hours']=data['Travel_hours'].str.split('h')\n",
    "data['Travel_hours']=data['Travel_hours'].str[0]\n",
    "data['Travel_hours']=data['Travel_hours']\n",
    "data['Travel_mins']=data['Duration'].str[1]\n",
    "data['Travel_mins']=data['Travel_mins'].str.split('m')\n",
    "data['Travel_mins']=data['Travel_mins'].str[0]"
   ]
  },
  {
   "cell_type": "code",
   "execution_count": null,
   "metadata": {},
   "outputs": [],
   "source": [
    "data.head()"
   ]
  },
  {
   "cell_type": "code",
   "execution_count": null,
   "metadata": {},
   "outputs": [],
   "source": [
    "#Treating the Total Stops Column\n",
    "\n",
    "data['Total_Stops']=data['Total_Stops'].str.split(\" \")\n",
    "data['Total_Stops']=data['Total_Stops'].str[0]"
   ]
  },
  {
   "cell_type": "code",
   "execution_count": null,
   "metadata": {},
   "outputs": [],
   "source": [
    "data.sample(5)"
   ]
  },
  {
   "cell_type": "code",
   "execution_count": null,
   "metadata": {},
   "outputs": [],
   "source": [
    "#Exploring the additional info column\n",
    "data['Additional_Info'].unique()"
   ]
  },
  {
   "cell_type": "code",
   "execution_count": null,
   "metadata": {},
   "outputs": [],
   "source": [
    "data['Additional_Info'].replace('No Info','No info',inplace=True)\n"
   ]
  },
  {
   "cell_type": "code",
   "execution_count": null,
   "metadata": {},
   "outputs": [],
   "source": [
    "data.Total_Stops.replace('non-stop','0',inplace=True)"
   ]
  },
  {
   "cell_type": "code",
   "execution_count": null,
   "metadata": {},
   "outputs": [],
   "source": [
    "columns_to_drop=['Date_of_Journey','Route','Dep_Time','Arrival_Time','Duration','City5','City6','Time_of_Arrival']\n",
    "data.drop(columns=columns_to_drop,inplace=True)"
   ]
  },
  {
   "cell_type": "code",
   "execution_count": null,
   "metadata": {},
   "outputs": [],
   "source": [
    "data.head(10)"
   ]
  },
  {
   "cell_type": "code",
   "execution_count": null,
   "metadata": {},
   "outputs": [],
   "source": [
    "data.isnull().sum()"
   ]
  },
  {
   "cell_type": "code",
   "execution_count": null,
   "metadata": {},
   "outputs": [],
   "source": [
    "data.drop(columns='City4',inplace=True)"
   ]
  },
  {
   "cell_type": "code",
   "execution_count": null,
   "metadata": {},
   "outputs": [],
   "source": [
    "data.loc[data['City1'].isnull(),'City1']='DEL'\n",
    "data.loc[data['City2'].isnull(),'City2']='COK'\n",
    "data.loc[data['City3'].isnull(),'City3']='None'\n",
    "data.loc[data['Total_Stops'].isnull(),'Total_Stops']=0"
   ]
  },
  {
   "cell_type": "code",
   "execution_count": null,
   "metadata": {},
   "outputs": [],
   "source": [
    "data['Arrival_date'].isnull()"
   ]
  },
  {
   "cell_type": "code",
   "execution_count": null,
   "metadata": {},
   "outputs": [],
   "source": [
    "data['City3'].fillna('None',inplace=True)"
   ]
  },
  {
   "cell_type": "code",
   "execution_count": null,
   "metadata": {},
   "outputs": [],
   "source": [
    "data['Arrival_date'].fillna(data['Date'], inplace=True)\n"
   ]
  },
  {
   "cell_type": "code",
   "execution_count": null,
   "metadata": {},
   "outputs": [],
   "source": [
    "data['Travel_mins'].fillna(0,inplace=True)"
   ]
  },
  {
   "cell_type": "code",
   "execution_count": null,
   "metadata": {},
   "outputs": [],
   "source": [
    "data.isnull().sum()"
   ]
  },
  {
   "cell_type": "code",
   "execution_count": null,
   "metadata": {},
   "outputs": [],
   "source": [
    "data.info()"
   ]
  },
  {
   "cell_type": "code",
   "execution_count": null,
   "metadata": {},
   "outputs": [],
   "source": [
    "#Changing data type of numerical columns from object to int\n",
    "\n",
    "data. Total_Stops = data. Total_Stops.astype(\"int64\")\n",
    "\n",
    "data.Date = data.Date.astype('int64')\n",
    "\n",
    "data.Month = data. Month.astype('int64')\n",
    "\n",
    "data. Year = data.Year.astype('int64')\n",
    "\n",
    "data.Dep_Time_Hour = data.Dep_Time_Hour.astype('int64')\n",
    "data.Dep_Time_Min = data.Dep_Time_Min.astype('int64')\n",
    "\n",
    "data.Arrival_date = data.Arrival_date.astype(\"int64\")\n",
    "\n",
    "data.Arrival_Time_Hour = data.Arrival_Time_Hour.astype(\"int64\")\n",
    "\n",
    "data.Arrival_Time_Min = data.Arrival_Time_Min.astype(\"int64\")\n",
    "\n",
    "data. Travel_mins = data. Travel_mins.astype('int64')"
   ]
  },
  {
   "cell_type": "code",
   "execution_count": null,
   "metadata": {},
   "outputs": [],
   "source": [
    "#data.Travel_hours = data.Travel_hours.astype(\"int64\")"
   ]
  },
  {
   "cell_type": "markdown",
   "metadata": {},
   "source": [
    "Here we are facing issue converting the 'Travel_hours' column,saying that column has data as '5m' ,which is not allowing its conversion to \"int\""
   ]
  },
  {
   "cell_type": "code",
   "execution_count": null,
   "metadata": {},
   "outputs": [],
   "source": [
    "data[data['Travel_hours']=='5m']"
   ]
  },
  {
   "cell_type": "markdown",
   "metadata": {},
   "source": [
    "The data signifies that the flight time is ‘5m’, which is obviously wrong as the plane cannot fly from BOMBAY->GOA->PUNE->HYDERABAD in 5 mins! (The flight has ‘Total_stops’ as 2)\n",
    "therefore  \n",
    "We choose to drop this row due to incorrect data present in the row."
   ]
  },
  {
   "cell_type": "code",
   "execution_count": null,
   "metadata": {},
   "outputs": [],
   "source": [
    "data.drop(index=6474,inplace=True,axis=0)"
   ]
  },
  {
   "cell_type": "code",
   "execution_count": null,
   "metadata": {},
   "outputs": [],
   "source": [
    "data.Travel_hours = data.Travel_hours.astype(\"int64\")"
   ]
  },
  {
   "cell_type": "code",
   "execution_count": null,
   "metadata": {},
   "outputs": [],
   "source": [
    "data.shape"
   ]
  },
  {
   "cell_type": "code",
   "execution_count": null,
   "metadata": {},
   "outputs": [],
   "source": [
    "categorical=data.select_dtypes(include=['object'])\n",
    "numerical=data.select_dtypes(exclude=['object'])"
   ]
  },
  {
   "cell_type": "code",
   "execution_count": null,
   "metadata": {},
   "outputs": [],
   "source": [
    "categorical.columns"
   ]
  },
  {
   "cell_type": "code",
   "execution_count": null,
   "metadata": {},
   "outputs": [],
   "source": [
    "numerical.columns"
   ]
  },
  {
   "cell_type": "markdown",
   "metadata": {},
   "source": [
    "Plotting countplots for categorical data"
   ]
  },
  {
   "cell_type": "code",
   "execution_count": null,
   "metadata": {},
   "outputs": [],
   "source": [
    "c=1\n",
    "plt.figure(figsize=(20,45))\n",
    "for i in categorical:\n",
    "    plt.subplot(6,3,c)\n",
    "    sns.countplot(data,x=i)\n",
    "    plt.xticks(rotation=90)\n",
    "    c=c+1\n",
    "plt.tight_layout(pad=3.0)\n",
    "plt.show()"
   ]
  },
  {
   "cell_type": "code",
   "execution_count": null,
   "metadata": {},
   "outputs": [],
   "source": [
    "c = 1\n",
    "plt.figure(figsize=(20, 45))\n",
    "for i in numerical:\n",
    "    plt.subplot(6, 3, c)\n",
    "    sns.distplot(data[i])  # Use sns.distplot() for distribution plot\n",
    "    plt.xticks(rotation=90)\n",
    "    c = c + 1\n",
    "\n",
    "plt.tight_layout(pad=3.0)  # Apply tight_layout once after creating all subplots\n",
    "plt.show()"
   ]
  },
  {
   "cell_type": "code",
   "execution_count": null,
   "metadata": {},
   "outputs": [],
   "source": [
    "c = 1\n",
    "plt.figure(figsize=(20, 45))\n",
    "for i in categorical:\n",
    "    plt.subplot(6, 3, c)\n",
    "    sns.scatterplot(x=data[i],y=data.Price)  # Use sns.distplot() for distribution plot\n",
    "    plt.xticks(rotation=90)\n",
    "    c = c + 1\n",
    "\n",
    "plt.tight_layout(pad=3.0)  # Apply tight_layout once after creating all subplots\n",
    "plt.show()"
   ]
  },
  {
   "cell_type": "code",
   "execution_count": null,
   "metadata": {},
   "outputs": [],
   "source": [
    "data[data.Price>=50000]"
   ]
  },
  {
   "cell_type": "code",
   "execution_count": null,
   "metadata": {},
   "outputs": [],
   "source": [
    "c = 1\n",
    "plt.figure(figsize=(20, 45))\n",
    "for i in numerical:\n",
    "    plt.subplot(6, 3, c)\n",
    "    sns.scatterplot(x=data[i],y=data.Price)  # Use sns.distplot() for distribution plot\n",
    "    plt.xticks(rotation=90)\n",
    "    c = c + 1\n",
    "\n",
    "plt.tight_layout(pad=3.0)  # Apply tight_layout once after creating all subplots\n",
    "plt.show()"
   ]
  },
  {
   "cell_type": "code",
   "execution_count": null,
   "metadata": {},
   "outputs": [],
   "source": [
    "columns_to_dropp=['Dep_Time_Min','Arrival_Time_Min','Travel_mins','City1']\n",
    "data.drop(columns=columns_to_dropp,inplace=True)"
   ]
  },
  {
   "cell_type": "code",
   "execution_count": null,
   "metadata": {},
   "outputs": [],
   "source": [
    "data.head()"
   ]
  },
  {
   "cell_type": "code",
   "execution_count": null,
   "metadata": {},
   "outputs": [],
   "source": [
    "data.shape"
   ]
  },
  {
   "cell_type": "code",
   "execution_count": null,
   "metadata": {},
   "outputs": [],
   "source": [
    "#data.drop('Year',inplace=True)"
   ]
  },
  {
   "cell_type": "code",
   "execution_count": null,
   "metadata": {},
   "outputs": [],
   "source": [
    "data.head()"
   ]
  },
  {
   "cell_type": "code",
   "execution_count": null,
   "metadata": {},
   "outputs": [],
   "source": [
    "\n",
    "data.sample(5)"
   ]
  },
  {
   "cell_type": "code",
   "execution_count": null,
   "metadata": {},
   "outputs": [],
   "source": [
    "\"\"\"column_name='Year'\n",
    "data.drop(column_name,inplace=True)\"\"\""
   ]
  },
  {
   "cell_type": "code",
   "execution_count": null,
   "metadata": {},
   "outputs": [],
   "source": [
    "data.columns"
   ]
  },
  {
   "cell_type": "code",
   "execution_count": null,
   "metadata": {},
   "outputs": [],
   "source": []
  }
 ],
 "metadata": {
  "kernelspec": {
   "display_name": "Python 3",
   "language": "python",
   "name": "python3"
  },
  "language_info": {
   "codemirror_mode": {
    "name": "ipython",
    "version": 3
   },
   "file_extension": ".py",
   "mimetype": "text/x-python",
   "name": "python",
   "nbconvert_exporter": "python",
   "pygments_lexer": "ipython3",
   "version": "3.11.5"
  },
  "orig_nbformat": 4
 },
 "nbformat": 4,
 "nbformat_minor": 2
}
